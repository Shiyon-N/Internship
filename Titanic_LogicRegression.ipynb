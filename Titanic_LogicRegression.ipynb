{
  "nbformat": 4,
  "nbformat_minor": 0,
  "metadata": {
    "colab": {
      "name": "Titanic LogicRegression.ipynb",
      "provenance": [],
      "authorship_tag": "ABX9TyPbdO8vvdEQMpwKPROqtbzR",
      "include_colab_link": true
    },
    "kernelspec": {
      "name": "python3",
      "display_name": "Python 3"
    }
  },
  "cells": [
    {
      "cell_type": "markdown",
      "metadata": {
        "id": "view-in-github",
        "colab_type": "text"
      },
      "source": [
        "<a href=\"https://colab.research.google.com/github/Shiyon-N/Internship/blob/master/Titanic_LogicRegression.ipynb\" target=\"_parent\"><img src=\"https://colab.research.google.com/assets/colab-badge.svg\" alt=\"Open In Colab\"/></a>"
      ]
    },
    {
      "cell_type": "code",
      "metadata": {
        "id": "hp3a_PdshIGf",
        "colab_type": "code",
        "colab": {}
      },
      "source": [
        "import pandas as pd"
      ],
      "execution_count": 0,
      "outputs": []
    },
    {
      "cell_type": "code",
      "metadata": {
        "id": "mMh-xabSTZ8H",
        "colab_type": "code",
        "colab": {
          "base_uri": "https://localhost:8080/",
          "height": 826
        },
        "outputId": "6e53cbd5-4f67-43c7-df37-201e59264465"
      },
      "source": [
        "df=pd.read_csv('titanic_train.csv')\n",
        "df\n",
        "#Take data and create a dataframe"
      ],
      "execution_count": 2,
      "outputs": [
        {
          "output_type": "execute_result",
          "data": {
            "text/html": [
              "<div>\n",
              "<style scoped>\n",
              "    .dataframe tbody tr th:only-of-type {\n",
              "        vertical-align: middle;\n",
              "    }\n",
              "\n",
              "    .dataframe tbody tr th {\n",
              "        vertical-align: top;\n",
              "    }\n",
              "\n",
              "    .dataframe thead th {\n",
              "        text-align: right;\n",
              "    }\n",
              "</style>\n",
              "<table border=\"1\" class=\"dataframe\">\n",
              "  <thead>\n",
              "    <tr style=\"text-align: right;\">\n",
              "      <th></th>\n",
              "      <th>passenger_id</th>\n",
              "      <th>pclass</th>\n",
              "      <th>name</th>\n",
              "      <th>sex</th>\n",
              "      <th>age</th>\n",
              "      <th>sibsp</th>\n",
              "      <th>parch</th>\n",
              "      <th>ticket</th>\n",
              "      <th>fare</th>\n",
              "      <th>cabin</th>\n",
              "      <th>embarked</th>\n",
              "      <th>boat</th>\n",
              "      <th>body</th>\n",
              "      <th>home.dest</th>\n",
              "      <th>survived</th>\n",
              "    </tr>\n",
              "  </thead>\n",
              "  <tbody>\n",
              "    <tr>\n",
              "      <th>0</th>\n",
              "      <td>1216</td>\n",
              "      <td>3</td>\n",
              "      <td>Smyth, Miss. Julia</td>\n",
              "      <td>female</td>\n",
              "      <td>NaN</td>\n",
              "      <td>0</td>\n",
              "      <td>0</td>\n",
              "      <td>335432</td>\n",
              "      <td>7.7333</td>\n",
              "      <td>NaN</td>\n",
              "      <td>Q</td>\n",
              "      <td>13</td>\n",
              "      <td>NaN</td>\n",
              "      <td>NaN</td>\n",
              "      <td>1</td>\n",
              "    </tr>\n",
              "    <tr>\n",
              "      <th>1</th>\n",
              "      <td>699</td>\n",
              "      <td>3</td>\n",
              "      <td>Cacic, Mr. Luka</td>\n",
              "      <td>male</td>\n",
              "      <td>38.0</td>\n",
              "      <td>0</td>\n",
              "      <td>0</td>\n",
              "      <td>315089</td>\n",
              "      <td>8.6625</td>\n",
              "      <td>NaN</td>\n",
              "      <td>S</td>\n",
              "      <td>NaN</td>\n",
              "      <td>NaN</td>\n",
              "      <td>Croatia</td>\n",
              "      <td>0</td>\n",
              "    </tr>\n",
              "    <tr>\n",
              "      <th>2</th>\n",
              "      <td>1267</td>\n",
              "      <td>3</td>\n",
              "      <td>Van Impe, Mrs. Jean Baptiste (Rosalie Paula Go...</td>\n",
              "      <td>female</td>\n",
              "      <td>30.0</td>\n",
              "      <td>1</td>\n",
              "      <td>1</td>\n",
              "      <td>345773</td>\n",
              "      <td>24.1500</td>\n",
              "      <td>NaN</td>\n",
              "      <td>S</td>\n",
              "      <td>NaN</td>\n",
              "      <td>NaN</td>\n",
              "      <td>NaN</td>\n",
              "      <td>0</td>\n",
              "    </tr>\n",
              "    <tr>\n",
              "      <th>3</th>\n",
              "      <td>449</td>\n",
              "      <td>2</td>\n",
              "      <td>Hocking, Mrs. Elizabeth (Eliza Needs)</td>\n",
              "      <td>female</td>\n",
              "      <td>54.0</td>\n",
              "      <td>1</td>\n",
              "      <td>3</td>\n",
              "      <td>29105</td>\n",
              "      <td>23.0000</td>\n",
              "      <td>NaN</td>\n",
              "      <td>S</td>\n",
              "      <td>4</td>\n",
              "      <td>NaN</td>\n",
              "      <td>Cornwall / Akron, OH</td>\n",
              "      <td>1</td>\n",
              "    </tr>\n",
              "    <tr>\n",
              "      <th>4</th>\n",
              "      <td>576</td>\n",
              "      <td>2</td>\n",
              "      <td>Veal, Mr. James</td>\n",
              "      <td>male</td>\n",
              "      <td>40.0</td>\n",
              "      <td>0</td>\n",
              "      <td>0</td>\n",
              "      <td>28221</td>\n",
              "      <td>13.0000</td>\n",
              "      <td>NaN</td>\n",
              "      <td>S</td>\n",
              "      <td>NaN</td>\n",
              "      <td>NaN</td>\n",
              "      <td>Barre, Co Washington, VT</td>\n",
              "      <td>0</td>\n",
              "    </tr>\n",
              "    <tr>\n",
              "      <th>...</th>\n",
              "      <td>...</td>\n",
              "      <td>...</td>\n",
              "      <td>...</td>\n",
              "      <td>...</td>\n",
              "      <td>...</td>\n",
              "      <td>...</td>\n",
              "      <td>...</td>\n",
              "      <td>...</td>\n",
              "      <td>...</td>\n",
              "      <td>...</td>\n",
              "      <td>...</td>\n",
              "      <td>...</td>\n",
              "      <td>...</td>\n",
              "      <td>...</td>\n",
              "      <td>...</td>\n",
              "    </tr>\n",
              "    <tr>\n",
              "      <th>845</th>\n",
              "      <td>158</td>\n",
              "      <td>1</td>\n",
              "      <td>Hipkins, Mr. William Edward</td>\n",
              "      <td>male</td>\n",
              "      <td>55.0</td>\n",
              "      <td>0</td>\n",
              "      <td>0</td>\n",
              "      <td>680</td>\n",
              "      <td>50.0000</td>\n",
              "      <td>C39</td>\n",
              "      <td>S</td>\n",
              "      <td>NaN</td>\n",
              "      <td>NaN</td>\n",
              "      <td>London / Birmingham</td>\n",
              "      <td>0</td>\n",
              "    </tr>\n",
              "    <tr>\n",
              "      <th>846</th>\n",
              "      <td>174</td>\n",
              "      <td>1</td>\n",
              "      <td>Kent, Mr. Edward Austin</td>\n",
              "      <td>male</td>\n",
              "      <td>58.0</td>\n",
              "      <td>0</td>\n",
              "      <td>0</td>\n",
              "      <td>11771</td>\n",
              "      <td>29.7000</td>\n",
              "      <td>B37</td>\n",
              "      <td>C</td>\n",
              "      <td>NaN</td>\n",
              "      <td>258.0</td>\n",
              "      <td>Buffalo, NY</td>\n",
              "      <td>0</td>\n",
              "    </tr>\n",
              "    <tr>\n",
              "      <th>847</th>\n",
              "      <td>467</td>\n",
              "      <td>2</td>\n",
              "      <td>Kantor, Mrs. Sinai (Miriam Sternin)</td>\n",
              "      <td>female</td>\n",
              "      <td>24.0</td>\n",
              "      <td>1</td>\n",
              "      <td>0</td>\n",
              "      <td>244367</td>\n",
              "      <td>26.0000</td>\n",
              "      <td>NaN</td>\n",
              "      <td>S</td>\n",
              "      <td>12</td>\n",
              "      <td>NaN</td>\n",
              "      <td>Moscow / Bronx, NY</td>\n",
              "      <td>1</td>\n",
              "    </tr>\n",
              "    <tr>\n",
              "      <th>848</th>\n",
              "      <td>1112</td>\n",
              "      <td>3</td>\n",
              "      <td>Peacock, Miss. Treasteall</td>\n",
              "      <td>female</td>\n",
              "      <td>3.0</td>\n",
              "      <td>1</td>\n",
              "      <td>1</td>\n",
              "      <td>SOTON/O.Q. 3101315</td>\n",
              "      <td>13.7750</td>\n",
              "      <td>NaN</td>\n",
              "      <td>S</td>\n",
              "      <td>NaN</td>\n",
              "      <td>NaN</td>\n",
              "      <td>NaN</td>\n",
              "      <td>0</td>\n",
              "    </tr>\n",
              "    <tr>\n",
              "      <th>849</th>\n",
              "      <td>425</td>\n",
              "      <td>2</td>\n",
              "      <td>Greenberg, Mr. Samuel</td>\n",
              "      <td>male</td>\n",
              "      <td>52.0</td>\n",
              "      <td>0</td>\n",
              "      <td>0</td>\n",
              "      <td>250647</td>\n",
              "      <td>13.0000</td>\n",
              "      <td>NaN</td>\n",
              "      <td>S</td>\n",
              "      <td>NaN</td>\n",
              "      <td>19.0</td>\n",
              "      <td>Bronx, NY</td>\n",
              "      <td>0</td>\n",
              "    </tr>\n",
              "  </tbody>\n",
              "</table>\n",
              "<p>850 rows × 15 columns</p>\n",
              "</div>"
            ],
            "text/plain": [
              "     passenger_id  pclass  ...                 home.dest survived\n",
              "0            1216       3  ...                       NaN        1\n",
              "1             699       3  ...                   Croatia        0\n",
              "2            1267       3  ...                       NaN        0\n",
              "3             449       2  ...      Cornwall / Akron, OH        1\n",
              "4             576       2  ...  Barre, Co Washington, VT        0\n",
              "..            ...     ...  ...                       ...      ...\n",
              "845           158       1  ...       London / Birmingham        0\n",
              "846           174       1  ...               Buffalo, NY        0\n",
              "847           467       2  ...        Moscow / Bronx, NY        1\n",
              "848          1112       3  ...                       NaN        0\n",
              "849           425       2  ...                 Bronx, NY        0\n",
              "\n",
              "[850 rows x 15 columns]"
            ]
          },
          "metadata": {
            "tags": []
          },
          "execution_count": 2
        }
      ]
    },
    {
      "cell_type": "code",
      "metadata": {
        "id": "YphdXJFoTgpE",
        "colab_type": "code",
        "colab": {
          "base_uri": "https://localhost:8080/",
          "height": 34
        },
        "outputId": "dac11445-f3a1-4c3f-df88-693d48b0f36b"
      },
      "source": [
        "df.shape"
      ],
      "execution_count": 3,
      "outputs": [
        {
          "output_type": "execute_result",
          "data": {
            "text/plain": [
              "(850, 15)"
            ]
          },
          "metadata": {
            "tags": []
          },
          "execution_count": 3
        }
      ]
    },
    {
      "cell_type": "code",
      "metadata": {
        "id": "MY0pGtueTpOH",
        "colab_type": "code",
        "colab": {}
      },
      "source": [
        "from sklearn.preprocessing import LabelEncoder\n",
        "encode=LabelEncoder()\n",
        "df.iloc[:,3]=encode.fit_transform(df.iloc[:,3])\n",
        "#female=1,male=0\n",
        "#Preprocessing-filtering of data"
      ],
      "execution_count": 0,
      "outputs": []
    },
    {
      "cell_type": "code",
      "metadata": {
        "id": "dw-vBoPAT3S4",
        "colab_type": "code",
        "colab": {
          "base_uri": "https://localhost:8080/",
          "height": 487
        },
        "outputId": "df7127ec-b136-483b-a36b-cd32f8dde464"
      },
      "source": [
        "df.head()"
      ],
      "execution_count": 5,
      "outputs": [
        {
          "output_type": "execute_result",
          "data": {
            "text/html": [
              "<div>\n",
              "<style scoped>\n",
              "    .dataframe tbody tr th:only-of-type {\n",
              "        vertical-align: middle;\n",
              "    }\n",
              "\n",
              "    .dataframe tbody tr th {\n",
              "        vertical-align: top;\n",
              "    }\n",
              "\n",
              "    .dataframe thead th {\n",
              "        text-align: right;\n",
              "    }\n",
              "</style>\n",
              "<table border=\"1\" class=\"dataframe\">\n",
              "  <thead>\n",
              "    <tr style=\"text-align: right;\">\n",
              "      <th></th>\n",
              "      <th>passenger_id</th>\n",
              "      <th>pclass</th>\n",
              "      <th>name</th>\n",
              "      <th>sex</th>\n",
              "      <th>age</th>\n",
              "      <th>sibsp</th>\n",
              "      <th>parch</th>\n",
              "      <th>ticket</th>\n",
              "      <th>fare</th>\n",
              "      <th>cabin</th>\n",
              "      <th>embarked</th>\n",
              "      <th>boat</th>\n",
              "      <th>body</th>\n",
              "      <th>home.dest</th>\n",
              "      <th>survived</th>\n",
              "    </tr>\n",
              "  </thead>\n",
              "  <tbody>\n",
              "    <tr>\n",
              "      <th>0</th>\n",
              "      <td>1216</td>\n",
              "      <td>3</td>\n",
              "      <td>Smyth, Miss. Julia</td>\n",
              "      <td>0</td>\n",
              "      <td>NaN</td>\n",
              "      <td>0</td>\n",
              "      <td>0</td>\n",
              "      <td>335432</td>\n",
              "      <td>7.7333</td>\n",
              "      <td>NaN</td>\n",
              "      <td>Q</td>\n",
              "      <td>13</td>\n",
              "      <td>NaN</td>\n",
              "      <td>NaN</td>\n",
              "      <td>1</td>\n",
              "    </tr>\n",
              "    <tr>\n",
              "      <th>1</th>\n",
              "      <td>699</td>\n",
              "      <td>3</td>\n",
              "      <td>Cacic, Mr. Luka</td>\n",
              "      <td>1</td>\n",
              "      <td>38.0</td>\n",
              "      <td>0</td>\n",
              "      <td>0</td>\n",
              "      <td>315089</td>\n",
              "      <td>8.6625</td>\n",
              "      <td>NaN</td>\n",
              "      <td>S</td>\n",
              "      <td>NaN</td>\n",
              "      <td>NaN</td>\n",
              "      <td>Croatia</td>\n",
              "      <td>0</td>\n",
              "    </tr>\n",
              "    <tr>\n",
              "      <th>2</th>\n",
              "      <td>1267</td>\n",
              "      <td>3</td>\n",
              "      <td>Van Impe, Mrs. Jean Baptiste (Rosalie Paula Go...</td>\n",
              "      <td>0</td>\n",
              "      <td>30.0</td>\n",
              "      <td>1</td>\n",
              "      <td>1</td>\n",
              "      <td>345773</td>\n",
              "      <td>24.1500</td>\n",
              "      <td>NaN</td>\n",
              "      <td>S</td>\n",
              "      <td>NaN</td>\n",
              "      <td>NaN</td>\n",
              "      <td>NaN</td>\n",
              "      <td>0</td>\n",
              "    </tr>\n",
              "    <tr>\n",
              "      <th>3</th>\n",
              "      <td>449</td>\n",
              "      <td>2</td>\n",
              "      <td>Hocking, Mrs. Elizabeth (Eliza Needs)</td>\n",
              "      <td>0</td>\n",
              "      <td>54.0</td>\n",
              "      <td>1</td>\n",
              "      <td>3</td>\n",
              "      <td>29105</td>\n",
              "      <td>23.0000</td>\n",
              "      <td>NaN</td>\n",
              "      <td>S</td>\n",
              "      <td>4</td>\n",
              "      <td>NaN</td>\n",
              "      <td>Cornwall / Akron, OH</td>\n",
              "      <td>1</td>\n",
              "    </tr>\n",
              "    <tr>\n",
              "      <th>4</th>\n",
              "      <td>576</td>\n",
              "      <td>2</td>\n",
              "      <td>Veal, Mr. James</td>\n",
              "      <td>1</td>\n",
              "      <td>40.0</td>\n",
              "      <td>0</td>\n",
              "      <td>0</td>\n",
              "      <td>28221</td>\n",
              "      <td>13.0000</td>\n",
              "      <td>NaN</td>\n",
              "      <td>S</td>\n",
              "      <td>NaN</td>\n",
              "      <td>NaN</td>\n",
              "      <td>Barre, Co Washington, VT</td>\n",
              "      <td>0</td>\n",
              "    </tr>\n",
              "  </tbody>\n",
              "</table>\n",
              "</div>"
            ],
            "text/plain": [
              "   passenger_id  pclass  ...                 home.dest  survived\n",
              "0          1216       3  ...                       NaN         1\n",
              "1           699       3  ...                   Croatia         0\n",
              "2          1267       3  ...                       NaN         0\n",
              "3           449       2  ...      Cornwall / Akron, OH         1\n",
              "4           576       2  ...  Barre, Co Washington, VT         0\n",
              "\n",
              "[5 rows x 15 columns]"
            ]
          },
          "metadata": {
            "tags": []
          },
          "execution_count": 5
        }
      ]
    },
    {
      "cell_type": "code",
      "metadata": {
        "id": "nke7ClOeT4Xf",
        "colab_type": "code",
        "colab": {
          "base_uri": "https://localhost:8080/",
          "height": 52
        },
        "outputId": "7a118dd3-39cf-45dc-f2d7-8226d402d0c7"
      },
      "source": [
        "import numpy as np\n",
        "pc=df['pclass'].values\n",
        "unique_values,count=np.unique(pc,return_counts=True)\n",
        "print(unique_values)\n",
        "print(count)\n",
        "#Visualization-Analysis of data"
      ],
      "execution_count": 6,
      "outputs": [
        {
          "output_type": "stream",
          "text": [
            "[1 2 3]\n",
            "[206 166 478]\n"
          ],
          "name": "stdout"
        }
      ]
    },
    {
      "cell_type": "code",
      "metadata": {
        "id": "8q1XqcpeULTb",
        "colab_type": "code",
        "colab": {
          "base_uri": "https://localhost:8080/",
          "height": 269
        },
        "outputId": "60edbce0-c0cc-45c9-9a97-c09d42bcfc6d"
      },
      "source": [
        "import matplotlib.pyplot as plt\n",
        "plt.bar(unique_values,count,color=['r','orange','green'])\n",
        "plt.show()"
      ],
      "execution_count": 7,
      "outputs": [
        {
          "output_type": "display_data",
          "data": {
            "image/png": "[encoded data removed]",
            "text/plain": [
              "<Figure size 432x288 with 1 Axes>"
            ]
          },
          "metadata": {
            "tags": [],
            "needs_background": "light"
          }
        }
      ]
    },
    {
      "cell_type": "code",
      "metadata": {
        "id": "oecRdSJuUOzr",
        "colab_type": "code",
        "colab": {
          "base_uri": "https://localhost:8080/",
          "height": 52
        },
        "outputId": "c9190626-8c1f-4bb2-a434-e9194eeaae43"
      },
      "source": [
        "pc=df['parch'].values\n",
        "unique_values,count=np.unique(pc,return_counts=True)\n",
        "print(unique_values)\n",
        "print(count)"
      ],
      "execution_count": 8,
      "outputs": [
        {
          "output_type": "stream",
          "text": [
            "[0 1 2 3 4 5 6 9]\n",
            "[651 113  72   3   5   3   1   2]\n"
          ],
          "name": "stdout"
        }
      ]
    },
    {
      "cell_type": "code",
      "metadata": {
        "id": "9l7zzdkuUUuH",
        "colab_type": "code",
        "colab": {
          "base_uri": "https://localhost:8080/",
          "height": 265
        },
        "outputId": "b918ffcc-2180-42cc-e52a-87c2762179a2"
      },
      "source": [
        "plt.bar(unique_values,count, color='r')\n",
        "plt.show()"
      ],
      "execution_count": 9,
      "outputs": [
        {
          "output_type": "display_data",
          "data": {
            "image/png": "[encoded data removed]",
            "text/plain": [
              "<Figure size 432x288 with 1 Axes>"
            ]
          },
          "metadata": {
            "tags": [],
            "needs_background": "light"
          }
        }
      ]
    },
    {
      "cell_type": "code",
      "metadata": {
        "id": "kk8Yjg-WUWCj",
        "colab_type": "code",
        "colab": {
          "base_uri": "https://localhost:8080/",
          "height": 52
        },
        "outputId": "55a0f562-5c95-4927-f19e-ef982615039f"
      },
      "source": [
        "pc=df['sibsp'].values\n",
        "unique_values,count=np.unique(pc,return_counts=True)\n",
        "print(unique_values)\n",
        "print(count)"
      ],
      "execution_count": 10,
      "outputs": [
        {
          "output_type": "stream",
          "text": [
            "[0 1 2 3 4 5 8]\n",
            "[573 213  25  12  14   5   8]\n"
          ],
          "name": "stdout"
        }
      ]
    },
    {
      "cell_type": "code",
      "metadata": {
        "id": "doilIMA-UeRW",
        "colab_type": "code",
        "colab": {
          "base_uri": "https://localhost:8080/",
          "height": 269
        },
        "outputId": "8bf1706c-4c8f-4d4d-95e1-54fa65b59857"
      },
      "source": [
        "plt.bar(unique_values,count, color='g')\n",
        "plt.show()"
      ],
      "execution_count": 11,
      "outputs": [
        {
          "output_type": "display_data",
          "data": {
            "image/png": "[encoded data removed]",
            "text/plain": [
              "<Figure size 432x288 with 1 Axes>"
            ]
          },
          "metadata": {
            "tags": [],
            "needs_background": "light"
          }
        }
      ]
    },
    {
      "cell_type": "code",
      "metadata": {
        "id": "4YKilQkrUh7k",
        "colab_type": "code",
        "colab": {}
      },
      "source": [
        "x=df.iloc[:,[1,3,5,6]].values\n",
        "y=df.iloc[:,-1].values\n",
        "#Divide into input and output data "
      ],
      "execution_count": 0,
      "outputs": []
    },
    {
      "cell_type": "code",
      "metadata": {
        "id": "-AXCeJxOUsQJ",
        "colab_type": "code",
        "colab": {
          "base_uri": "https://localhost:8080/",
          "height": 52
        },
        "outputId": "d0086981-fa9b-4d50-bd19-d5e68bb08a8f"
      },
      "source": [
        "from sklearn.model_selection import train_test_split\n",
        "x_train,x_test,y_train,y_test=train_test_split(x,y)\n",
        "print(x_train.shape)\n",
        "print(x_test.shape)\n",
        "#Divide into train and test data"
      ],
      "execution_count": 13,
      "outputs": [
        {
          "output_type": "stream",
          "text": [
            "(637, 4)\n",
            "(213, 4)\n"
          ],
          "name": "stdout"
        }
      ]
    },
    {
      "cell_type": "code",
      "metadata": {
        "id": "sthSe3rmUxHG",
        "colab_type": "code",
        "colab": {}
      },
      "source": [
        "#Normalize(scaling)the data(inputs only) \n",
        "from sklearn.preprocessing import StandardScaler\n",
        "scalar=StandardScaler()\n",
        "x_train=scalar.fit_transform(x_train)\n",
        "x_test=scalar.fit_transform(x_test)"
      ],
      "execution_count": 0,
      "outputs": []
    },
    {
      "cell_type": "code",
      "metadata": {
        "id": "YFyIO4oEU1bg",
        "colab_type": "code",
        "colab": {}
      },
      "source": [
        "from sklearn.linear_model import LogisticRegression\n",
        "model=LogisticRegression()"
      ],
      "execution_count": 0,
      "outputs": []
    },
    {
      "cell_type": "code",
      "metadata": {
        "id": "8Jgf8XzWU6sd",
        "colab_type": "code",
        "colab": {
          "base_uri": "https://localhost:8080/",
          "height": 104
        },
        "outputId": "0155079e-0d29-4ccf-c28f-7ff0ce7273f1"
      },
      "source": [
        "model.fit(x_train,y_train)\n",
        "#Fit the model(Map inputs with output)"
      ],
      "execution_count": 16,
      "outputs": [
        {
          "output_type": "execute_result",
          "data": {
            "text/plain": [
              "LogisticRegression(C=1.0, class_weight=None, dual=False, fit_intercept=True,\n",
              "                   intercept_scaling=1, l1_ratio=None, max_iter=100,\n",
              "                   multi_class='auto', n_jobs=None, penalty='l2',\n",
              "                   random_state=None, solver='lbfgs', tol=0.0001, verbose=0,\n",
              "                   warm_start=False)"
            ]
          },
          "metadata": {
            "tags": []
          },
          "execution_count": 16
        }
      ]
    },
    {
      "cell_type": "code",
      "metadata": {
        "id": "DWV8CDi7VxPy",
        "colab_type": "code",
        "colab": {
          "base_uri": "https://localhost:8080/",
          "height": 191
        },
        "outputId": "23a050a4-584a-489d-fdd6-23cbd8d2eb7d"
      },
      "source": [
        "ypred=model.predict(x_test)\n",
        "ypred\n",
        "#Predict the output"
      ],
      "execution_count": 17,
      "outputs": [
        {
          "output_type": "execute_result",
          "data": {
            "text/plain": [
              "array([0, 0, 1, 0, 0, 0, 1, 0, 0, 0, 0, 0, 1, 1, 0, 1, 0, 1, 0, 1, 1, 0,\n",
              "       0, 0, 0, 0, 0, 0, 1, 0, 1, 1, 0, 0, 0, 0, 0, 0, 0, 1, 0, 1, 0, 0,\n",
              "       0, 0, 0, 0, 0, 0, 1, 1, 0, 0, 0, 0, 1, 0, 0, 1, 1, 1, 0, 1, 0, 0,\n",
              "       0, 0, 0, 1, 0, 0, 0, 0, 0, 0, 1, 0, 0, 0, 1, 0, 1, 0, 0, 0, 1, 0,\n",
              "       0, 0, 0, 0, 1, 1, 0, 1, 0, 0, 1, 1, 0, 1, 1, 0, 0, 1, 1, 0, 0, 0,\n",
              "       0, 1, 0, 0, 0, 0, 0, 0, 1, 0, 1, 0, 1, 1, 0, 1, 0, 0, 1, 0, 0, 0,\n",
              "       0, 1, 0, 0, 1, 1, 0, 0, 0, 1, 1, 0, 0, 0, 0, 0, 1, 0, 0, 1, 0, 0,\n",
              "       1, 0, 0, 0, 1, 0, 0, 1, 0, 0, 0, 1, 0, 0, 0, 1, 0, 0, 0, 0, 0, 0,\n",
              "       1, 0, 0, 0, 0, 0, 1, 0, 0, 1, 0, 0, 0, 0, 0, 0, 0, 1, 0, 0, 0, 0,\n",
              "       0, 1, 1, 0, 1, 0, 0, 0, 0, 0, 0, 0, 0, 1, 0])"
            ]
          },
          "metadata": {
            "tags": []
          },
          "execution_count": 17
        }
      ]
    },
    {
      "cell_type": "code",
      "metadata": {
        "id": "zRWXinLiWAaL",
        "colab_type": "code",
        "colab": {
          "base_uri": "https://localhost:8080/",
          "height": 191
        },
        "outputId": "c3befd7e-ba06-4063-fcb3-8491b5dad145"
      },
      "source": [
        "y_test"
      ],
      "execution_count": 18,
      "outputs": [
        {
          "output_type": "execute_result",
          "data": {
            "text/plain": [
              "array([1, 0, 1, 0, 1, 0, 0, 1, 0, 0, 0, 0, 1, 1, 0, 1, 0, 1, 1, 1, 0, 0,\n",
              "       0, 0, 0, 1, 1, 0, 0, 1, 0, 1, 0, 0, 0, 0, 0, 0, 0, 1, 0, 1, 1, 0,\n",
              "       0, 0, 1, 0, 0, 0, 0, 1, 0, 0, 0, 1, 1, 0, 0, 1, 1, 1, 1, 1, 0, 1,\n",
              "       1, 1, 0, 1, 1, 0, 0, 1, 0, 1, 1, 0, 0, 0, 0, 0, 1, 0, 1, 0, 1, 0,\n",
              "       0, 0, 0, 0, 0, 0, 0, 0, 0, 0, 0, 0, 0, 1, 1, 0, 0, 1, 1, 0, 0, 0,\n",
              "       0, 0, 0, 1, 0, 0, 0, 0, 0, 1, 1, 0, 1, 1, 0, 1, 0, 0, 1, 0, 0, 0,\n",
              "       0, 1, 0, 0, 0, 1, 0, 0, 0, 1, 1, 0, 0, 0, 0, 0, 0, 0, 1, 1, 0, 1,\n",
              "       1, 0, 0, 0, 0, 1, 0, 1, 0, 0, 0, 1, 0, 0, 1, 1, 0, 0, 0, 1, 0, 0,\n",
              "       1, 0, 0, 1, 0, 1, 1, 0, 0, 1, 0, 0, 0, 0, 0, 0, 0, 1, 0, 0, 0, 0,\n",
              "       0, 1, 0, 0, 1, 0, 0, 0, 0, 0, 0, 1, 0, 1, 1])"
            ]
          },
          "metadata": {
            "tags": []
          },
          "execution_count": 18
        }
      ]
    },
    {
      "cell_type": "code",
      "metadata": {
        "id": "IWydgc0OWEgH",
        "colab_type": "code",
        "colab": {
          "base_uri": "https://localhost:8080/",
          "height": 34
        },
        "outputId": "bedaca88-cb5a-41d5-e135-7f235c89fef6"
      },
      "source": [
        "from sklearn.metrics import accuracy_score,confusion_matrix,classification_report\n",
        "accuracy_score(y_test,ypred)\n",
        "#Accuracy"
      ],
      "execution_count": 19,
      "outputs": [
        {
          "output_type": "execute_result",
          "data": {
            "text/plain": [
              "0.784037558685446"
            ]
          },
          "metadata": {
            "tags": []
          },
          "execution_count": 19
        }
      ]
    },
    {
      "cell_type": "code",
      "metadata": {
        "id": "GwSOOVbdWL53",
        "colab_type": "code",
        "colab": {
          "base_uri": "https://localhost:8080/",
          "height": 52
        },
        "outputId": "06a1e968-29e3-471d-cd22-a11672d97737"
      },
      "source": [
        "from sklearn.metrics import accuracy_score,confusion_matrix,classification_report\n",
        "confusion_matrix(y_test,ypred)\n",
        "#Confuusion matrix"
      ],
      "execution_count": 20,
      "outputs": [
        {
          "output_type": "execute_result",
          "data": {
            "text/plain": [
              "array([[123,  17],\n",
              "       [ 29,  44]])"
            ]
          },
          "metadata": {
            "tags": []
          },
          "execution_count": 20
        }
      ]
    },
    {
      "cell_type": "code",
      "metadata": {
        "id": "ggtoSaX7WTZC",
        "colab_type": "code",
        "colab": {
          "base_uri": "https://localhost:8080/",
          "height": 54
        },
        "outputId": "7e1551c7-f9c1-4521-9060-df0a34dd7781"
      },
      "source": [
        "\n",
        "from sklearn.metrics import accuracy_score,confusion_matrix,classification_report\n",
        "classification_report(y_test,ypred)\n",
        "#Classification report"
      ],
      "execution_count": 21,
      "outputs": [
        {
          "output_type": "execute_result",
          "data": {
            "text/plain": [
              "'              precision    recall  f1-score   support\\n\\n           0       0.81      0.88      0.84       140\\n           1       0.72      0.60      0.66        73\\n\\n    accuracy                           0.78       213\\n   macro avg       0.77      0.74      0.75       213\\nweighted avg       0.78      0.78      0.78       213\\n'"
            ]
          },
          "metadata": {
            "tags": []
          },
          "execution_count": 21
        }
      ]
    },
    {
      "cell_type": "code",
      "metadata": {
        "id": "u9wqP1-hWeY0",
        "colab_type": "code",
        "colab": {}
      },
      "source": [
        ""
      ],
      "execution_count": 0,
      "outputs": []
    }
  ]
}